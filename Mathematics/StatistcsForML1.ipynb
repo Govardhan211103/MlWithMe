{
 "cells": [
  {
   "cell_type": "markdown",
   "metadata": {},
   "source": [
    "## Statistics For Machine Learning - Part 1\n",
    "\n",
    "Statistics is a branch of Mathematics that deals with Collecting, analysing, Interpreting and Visualizing data. As Statistics is a significant tool which studies data to recognize certain useful patterns. "
   ]
  },
  {
   "cell_type": "markdown",
   "metadata": {},
   "source": [
    "\n",
    "*Important Note* : \n",
    "- In this folllowing explanation of Statistics we will follow through some code examples including pandas, matplotlib, and numpy libraries which are not yet introoduced to yet, So don't bother we will cover them in-detail in further segments of the next module.\n",
    "- We also use some visualizations for distribution analysis of data hence just try to observe the distribution rather than focusing on the coding examples the code will be explained in the further modules.\n",
    "- This segment broadly follows the Practical Statistics for Dtascience Book so for detailed understanding please refer to the book. "
   ]
  },
  {
   "cell_type": "markdown",
   "metadata": {},
   "source": [
    "Statistics for ML :\n",
    "1. Data Representation\n",
    "2. Estimates of Location\n",
    "3. Estimates of Variability\n",
    "4. "
   ]
  },
  {
   "cell_type": "markdown",
   "metadata": {},
   "source": [
    "### Data Representation \n",
    "\n",
    "Firstly, Let's talk about how data is represented in real world for especially Machine Learning purposes. Data originates from various sources and has seen an unprecedented surge in recent years. Massive amounts of new data are generated daily. However, this surplus data is mostly unstructured, making it challenging to extract useful knowledge and information. This is where data structuring becomes essential. Data can take the form of values, images, videos, analog signals, audios, or text paragraphs. While all types of data can be converted into a common representation format, each requires a unique approach for effective addressing and exploration.\n",
    "\n",
    "We can divide data into two types CATEGORICAL having further two types Nominal and Ordinal, NUMERICAL(Real values).\n"
   ]
  },
  {
   "cell_type": "markdown",
   "metadata": {},
   "source": [
    "**RectangularData**  \n",
    "Structured Data is represented in rectangular format having multiple rows and columns simply a two dimensional matrix.Programatically in python or R we represent that structured data in the format of DataFrames(Datasets) whilch are like spreadsheet. This is also the basic data structure for statistical and machine learning models.\n",
    "\n",
    "***Feature*** is a column in that DataFrame (attribute, variable).\n",
    "\n",
    "***Reocord*** is a row within the DataFrame (instance)\n",
    "\n",
    "**Non rectangular Data**  \n",
    "The non rectangular data which doesnt really have features rather have much complex information.\n",
    "Timeseries Data, Spatial(geographical data), Graphical data(connections or network)\n"
   ]
  },
  {
   "cell_type": "markdown",
   "metadata": {},
   "source": [
    "In python we use pandas library for data manipulation, exploration, cleaning, and other important functionality using data in represented as DataFrames.\n"
   ]
  },
  {
   "cell_type": "markdown",
   "metadata": {},
   "source": [
    "### Estimates of Location\n",
    "Beginning in statistics every where is with measures or estimations of loaction.\n",
    "Variables with measured or count data might have thousands of distinct values. A\n",
    "basic step in exploring your data is getting a “typical value” for each feature (variable):\n",
    "an estimate of where most of the data is located (i.e., its central tendency).  \n",
    "The ***central tendency*** measure is defined as the number used to represent the center or middle of a set of data values.\n",
    "\n",
    "The three main estimates or measurements of the central tendency are..  \n",
    "**Mean** : The sum of all values divided by the total no of observations.  \n",
    "**Median** : The value such one-half of data lies above it and other half below it. Middle value in the sorted data.  \n",
    "**Mode** : The most repeated value or frequent value in data.\n",
    "\n",
    "Following other significant measures.  \n",
    "**Weighted mean** : The sum of all values times a weight divided by the sum of the weights.\n",
    "**Percentile** : The value s/t P percent of data lies below. (quantile)  \n",
    "**Weighted median** : The value s/t one-half of the sum of weights lies above and below sorted data.  \n",
    "**Outlier** : A data value that is very different from most of the data.(extreme value)\n",
    " "
   ]
  },
  {
   "cell_type": "markdown",
   "metadata": {},
   "source": [
    "### Estimates of Variability\n",
    "\n",
    "The estimates of variability are the measures of the second dimension of the data. It said that location is just one dimension in summarizing a feature , variability(dispersion) if the another dimension which mainly measures whetehr data values are tightly clustered or spread out. It refers to the amount of spread of the scores(data values) around the estimate of location.\n",
    "\n",
    "**Deviations** : The differnece between observed values and the estimate of location. (erros, residuals)  \n",
    "**Variance** : The sum of squared deviations divided by n-1 where n is no of data points. (mean squared error)  \n",
    "**Standard deviation** : The square root of Variance.  \n",
    "**Mean absolute Deviation** : The mean of the absolute values of deviations from means. (l1-Norm, Manhattan norm)  \n",
    "**Median absolute deviation from the median** : The median of the absolute values of the deviations from the median.  \n",
    "**Range** : The diffenrence between largest and smallest value in the data.  \n",
    "**Percentile** : The value s/t P percent of data lies below. The relative position of a specific vaue ina total dataset (quantile)  \n",
    "**Interquartile Range** : the differnce between the 75th percentile and the 25th percentile. (IQR)  \n",
    "\n",
    "**Degrees of Freedom (n or n-1)** : If you use the intuitive denominator of n in the variance formula, you will underesti‐mate the true value of the variance and the standard deviation in the population. Thisis referred to as a biased estimate. However, if you divide by n – 1 instead of n, the variance becomes an unbiased estimate.  \n"
   ]
  },
  {
   "cell_type": "code",
   "execution_count": 1,
   "metadata": {},
   "outputs": [],
   "source": [
    "# importing the libraries\n",
    "import numpy as np\n",
    "import pandas as pd"
   ]
  },
  {
   "cell_type": "code",
   "execution_count": 9,
   "metadata": {},
   "outputs": [],
   "source": [
    "# Generate a random dataset\n",
    "np.random.seed(42)  # For reproducing the same output when this cell runs multiple times.\n",
    "\n",
    "# Here example data points are generated or random samples are drawn from normal distribution(will be covered in next segment)\n",
    "# Normal Distribution(Gaussian distribution) is a type of Probabilistic distribution.\n",
    "data = np.random.normal(loc=100, scale=20, size=1000) \n",
    "data_points = pd.DataFrame(data)\n"
   ]
  },
  {
   "cell_type": "code",
   "execution_count": 20,
   "metadata": {},
   "outputs": [
    {
     "name": "stdout",
     "output_type": "stream",
     "text": [
      "Standard Deviation: 19.58\n",
      "IQR: 25.91\n"
     ]
    }
   ],
   "source": [
    "# Calculate standard deviation of the data_points\n",
    "\n",
    "# data_points[0] refers to the column or attribute of the data\n",
    "# .std() will give the standard deviation of given data\n",
    "std_dev = data_points[0].std() \n",
    "\n",
    "print(f\"Standard Deviation: {std_dev:.2f}\")\n",
    "\n",
    "# .quantile() will give the quantile of the data at given level between [0,1]\n",
    "q3 = data_points[0].quantile(0.75)\n",
    "q1 = data_points[0].quantile(0.25)\n",
    "\n",
    "# Calculate interquartile range (IQR)\n",
    "iqr = q3 - q1\n",
    "print(f\"IQR: {iqr:.2f}\")"
   ]
  },
  {
   "cell_type": "markdown",
   "metadata": {},
   "source": [
    "### Exploring the Data Distribution\n",
    "Till now we tried to estimate the data and comprise the information or distribution of data into a single number or metric or estimate. It is also important and helpful to explore how data is ditributed overall through some visualizations.\n",
    "\n",
    "**Boxplot** : Shows the distribution of data which uses to find the outliers. (whisker plot)  \n",
    "**Frequency table** : A tally of the count of numeric data values that fall intp a sset of intervals(bins).  \n",
    "**Histogram** : A plot of the frequency table with specified no of bins on x-axis and the count on the y-axis.  \n",
    "**Density plot** : Smoothen version of histogram, often based on a kernel density estimate."
   ]
  },
  {
   "cell_type": "code",
   "execution_count": 21,
   "metadata": {},
   "outputs": [
    {
     "name": "stdout",
     "output_type": "stream",
     "text": [
      "0.05     69.480908\n",
      "0.25     87.048194\n",
      "0.50    100.506012\n",
      "0.75    112.958878\n",
      "0.95    133.539451\n",
      "Name: 0, dtype: float64\n"
     ]
    },
    {
     "data": {
      "text/plain": [
       "Text(0, 0.5, 'Charges in Rupees')"
      ]
     },
     "execution_count": 21,
     "metadata": {},
     "output_type": "execute_result"
    },
    {
     "data": {
      "image/png": "[encoded data removed]",
      "text/plain": [
       "<Figure size 640x480 with 1 Axes>"
      ]
     },
     "metadata": {},
     "output_type": "display_data"
    }
   ],
   "source": [
    "#BOXPLOT\n",
    "# .quantile([list_of_quantiles]) will give the values of list of quantiles for given data\n",
    "print(data_points[0].quantile([0.05, 0.25, 0.5, 0.75, 0.95]))\n",
    "ax = data_points.plot.box() #box plot\n",
    "ax.set_ylabel('Charges in Rupees')"
   ]
  },
  {
   "cell_type": "code",
   "execution_count": 23,
   "metadata": {},
   "outputs": [
    {
     "data": {
      "text/plain": [
       "100.50601224469776"
      ]
     },
     "execution_count": 23,
     "metadata": {},
     "output_type": "execute_result"
    }
   ],
   "source": [
    "# MEDIAN\n",
    "\n",
    "data_points[0].median() # this exactly matches with the representation of 50th quartile in the above box plot"
   ]
  },
  {
   "cell_type": "code",
   "execution_count": 24,
   "metadata": {},
   "outputs": [
    {
     "data": {
      "text/plain": [
       "0\n",
       "(91.927, 120.303]     498\n",
       "(63.551, 91.927]      324\n",
       "(120.303, 148.679]    142\n",
       "(35.033, 63.551]       26\n",
       "(148.679, 177.055]     10\n",
       "Name: count, dtype: int64"
      ]
     },
     "execution_count": 24,
     "metadata": {},
     "output_type": "execute_result"
    }
   ],
   "source": [
    "# FREQUENCY TABLE\n",
    "\n",
    "charges = pd.cut(data_points[0], 5) #divide the total data into given no of bins with equal interval between the lowest and highest value of data\n",
    "charges.value_counts() # count the total no of values in each bin"
   ]
  },
  {
   "cell_type": "code",
   "execution_count": 26,
   "metadata": {},
   "outputs": [
    {
     "data": {
      "text/plain": [
       "Text(0.5, 0, 'total charges in rupees')"
      ]
     },
     "execution_count": 26,
     "metadata": {},
     "output_type": "execute_result"
    },
    {
     "data": {
      "image/png": "[encoded data removed]",
      "text/plain": [
       "<Figure size 400x400 with 1 Axes>"
      ]
     },
     "metadata": {},
     "output_type": "display_data"
    }
   ],
   "source": [
    "# HISTOGRAM PLOT\n",
    "\n",
    "ax = data_points[0].plot.hist(bins = 10, figsize = (4,4)) # histogram of the data\n",
    "ax.set_xlabel('total charges in rupees')\n",
    "\n",
    "# As the given data is normaly distributed one hence we will get a bell shaped figure."
   ]
  },
  {
   "cell_type": "markdown",
   "metadata": {},
   "source": [
    "**Statistical Moments** : \n",
    "In statistical theory, location and variability are referred to as the\n",
    "first and second moments of a distribution. The third and fourth\n",
    "moments are called ***skewness*** and ***kurtosis***. Skewness refers to\n",
    "whether the data is skewed to larger or smaller values, and kurtosis\n",
    "indicates the propensity of the data to have extreme values. Gener‐\n",
    "ally, metrics are not used to measure skewness and kurtosis;\n",
    "instead, these are discovered through visual displays such as box and hist plots."
   ]
  },
  {
   "cell_type": "code",
   "execution_count": 29,
   "metadata": {},
   "outputs": [
    {
     "data": {
      "text/plain": [
       "Text(0.5, 0, 'data')"
      ]
     },
     "execution_count": 29,
     "metadata": {},
     "output_type": "execute_result"
    },
    {
     "data": {
      "image/png": "[encoded data removed]",
      "text/plain": [
       "<Figure size 640x480 with 1 Axes>"
      ]
     },
     "metadata": {},
     "output_type": "display_data"
    }
   ],
   "source": [
    "# DENSITY PLOT\n",
    "\n",
    "ax = data_points[0].plot.hist(density=True) # get the density curve \n",
    "data_points[0].plot.density(ax=ax) # plot the density curve in the hist plot itself\n",
    "ax.set_xlabel('data')"
   ]
  },
  {
   "cell_type": "markdown",
   "metadata": {},
   "source": [
    "### Exploring Binary and Categorical Data\n",
    "\n",
    "For categorical or binary data we will explore the proportions, percentages of the distinct values in the attributes to get better insights of the data. The knowledge present in the categrical attributes of data is often representedd in the best way by counting the no of values each category posses or percentage of values does each category holds. This sometimes gets us the reasons on why the data is being so.\n",
    "\n",
    "**Mode** : The most commonly occuring category or value in the attribute.  \n",
    "**Bar Charts** : The frequency or proportion of each category plotted as bars.  \n",
    "**Pie Charts** : The frequency or proportion of each category plotted as wedges in a pie.  \n",
    "**Expected value** : When the categories can be associated with a numeric value, this gives an average value based on a category's probability of occurence. The expected value is calculated by multiplying each of the possible outcomes by the likelihood each outcome will occur and then summing all of those values. By calculating expected values, investors can choose the scenario most likely to produce the outcome that they seek."
   ]
  },
  {
   "cell_type": "code",
   "execution_count": 37,
   "metadata": {},
   "outputs": [
    {
     "data": {
      "text/plain": [
       "Text(0, 0.5, 'count')"
      ]
     },
     "execution_count": 37,
     "metadata": {},
     "output_type": "execute_result"
    },
    {
     "data": {
      "image/png": "[encoded data removed]",
      "text/plain": [
       "<Figure size 640x480 with 1 Axes>"
      ]
     },
     "metadata": {},
     "output_type": "display_data"
    }
   ],
   "source": [
    "# BA# BAR PLOT \n",
    "\n",
    "# lets make some new data for this representation.\n",
    "df = pd.DataFrame({\n",
    "    'team': ['A', 'A', 'A', 'B', 'B', 'C', 'C', 'D'],\n",
    "    'points': [18, 22, 29, 25, 14, 11, 10, 15]\n",
    "})\n",
    "counts = df['team'].value_counts() # total no of values asociated with each category\n",
    "ax = counts.transpose().plot.bar() # plot the count of each category in each bar\n",
    "ax.set_ylabel('count')\n",
    "# type(counts)"
   ]
  },
  {
   "cell_type": "markdown",
   "metadata": {},
   "source": [
    "### Correlation\n",
    "Correlation between two variables in an equation or two attributes in a dataset is how the change in one variable effects the change in another variable. Variables X and Y (each with measured data) are said to be positively correlated if high values of X go with high values of Y, and low values of X go with low values of Y. If high values of X go with low values of Y, and vice versa, the variables are negatively correlated.\n",
    "\n",
    "There is a blog that I have written about Correlation link-[***Correlation among features***](https://medium.com/@govardhanv/correlation-among-features-and-between-feature-output-label-intuition-and-implementation-1fe66a1332a9) which gives deeper understanding about correlation and types in it with detailed information.  \n",
    "\n",
    "**Correlation Coefficient** : Metric that measures the exten t to which numeric variables are associated with one another(ranges from -1 to 1).  \n",
    "**Correlation Matrix** : A table where  variables are shown in both rows and columns, and the cell values are the correlations between variables.  \n",
    "**Scatterplot** : A plot in which the x-axis is the value of one variable and the y-axis the value of the other variable.\n"
   ]
  },
  {
   "cell_type": "markdown",
   "metadata": {},
   "source": [
    "**Correlation Coefficient** : \n",
    "- More useful is a standardized variant: the correlation coefficient, which gives an estimate of the correlation between two variables that always lies on the same scale. To compute ***Pearson’s correlation coefficient***, we multiply deviations from the mean for variable 1 times those for variable 2, and divide by the product of the standard deviations and n-1.  \n",
    "- Variables can have an association that is not linear, in which case the correlation coefficient may not be a useful metric.\n",
    "- It is not possible to compute the correlation coefficient for categorical varibles where correlatin only holds to some continous data.\n",
    "- like mean and SD Correlation is also sensitive to outliers in the data.\n",
    "- We have other correlatin coefficients like ***Spearman's correlation coefficient*** and ***Kendall's tau correlation coefficient*** too these coefficients work based on the ranks rather than values of data. Hence they are robust to outliers and also can handle some non linearities in the data."
   ]
  },
  {
   "cell_type": "code",
   "execution_count": 43,
   "metadata": {},
   "outputs": [
    {
     "data": {
      "text/html": [
       "<div>\n",
       "<style scoped>\n",
       "    .dataframe tbody tr th:only-of-type {\n",
       "        vertical-align: middle;\n",
       "    }\n",
       "\n",
       "    .dataframe tbody tr th {\n",
       "        vertical-align: top;\n",
       "    }\n",
       "\n",
       "    .dataframe thead th {\n",
       "        text-align: right;\n",
       "    }\n",
       "</style>\n",
       "<table border=\"1\" class=\"dataframe\">\n",
       "  <thead>\n",
       "    <tr style=\"text-align: right;\">\n",
       "      <th></th>\n",
       "      <th>A</th>\n",
       "      <th>B</th>\n",
       "      <th>C</th>\n",
       "    </tr>\n",
       "  </thead>\n",
       "  <tbody>\n",
       "    <tr>\n",
       "      <th>0</th>\n",
       "      <td>0.374540</td>\n",
       "      <td>0.020584</td>\n",
       "      <td>0.611853</td>\n",
       "    </tr>\n",
       "    <tr>\n",
       "      <th>1</th>\n",
       "      <td>0.950714</td>\n",
       "      <td>0.969910</td>\n",
       "      <td>0.139494</td>\n",
       "    </tr>\n",
       "    <tr>\n",
       "      <th>2</th>\n",
       "      <td>0.731994</td>\n",
       "      <td>0.832443</td>\n",
       "      <td>0.292145</td>\n",
       "    </tr>\n",
       "    <tr>\n",
       "      <th>3</th>\n",
       "      <td>0.598658</td>\n",
       "      <td>0.212339</td>\n",
       "      <td>0.366362</td>\n",
       "    </tr>\n",
       "    <tr>\n",
       "      <th>4</th>\n",
       "      <td>0.156019</td>\n",
       "      <td>0.181825</td>\n",
       "      <td>0.456070</td>\n",
       "    </tr>\n",
       "    <tr>\n",
       "      <th>5</th>\n",
       "      <td>0.155995</td>\n",
       "      <td>0.183405</td>\n",
       "      <td>0.785176</td>\n",
       "    </tr>\n",
       "    <tr>\n",
       "      <th>6</th>\n",
       "      <td>0.058084</td>\n",
       "      <td>0.304242</td>\n",
       "      <td>0.199674</td>\n",
       "    </tr>\n",
       "    <tr>\n",
       "      <th>7</th>\n",
       "      <td>0.866176</td>\n",
       "      <td>0.524756</td>\n",
       "      <td>0.514234</td>\n",
       "    </tr>\n",
       "    <tr>\n",
       "      <th>8</th>\n",
       "      <td>0.601115</td>\n",
       "      <td>0.431945</td>\n",
       "      <td>0.592415</td>\n",
       "    </tr>\n",
       "    <tr>\n",
       "      <th>9</th>\n",
       "      <td>0.708073</td>\n",
       "      <td>0.291229</td>\n",
       "      <td>0.046450</td>\n",
       "    </tr>\n",
       "  </tbody>\n",
       "</table>\n",
       "</div>"
      ],
      "text/plain": [
       "          A         B         C\n",
       "0  0.374540  0.020584  0.611853\n",
       "1  0.950714  0.969910  0.139494\n",
       "2  0.731994  0.832443  0.292145\n",
       "3  0.598658  0.212339  0.366362\n",
       "4  0.156019  0.181825  0.456070\n",
       "5  0.155995  0.183405  0.785176\n",
       "6  0.058084  0.304242  0.199674\n",
       "7  0.866176  0.524756  0.514234\n",
       "8  0.601115  0.431945  0.592415\n",
       "9  0.708073  0.291229  0.046450"
      ]
     },
     "execution_count": 43,
     "metadata": {},
     "output_type": "execute_result"
    }
   ],
   "source": [
    "## CORRELATION MATRIX\n",
    "\n",
    "np.random.seed(42)\n",
    "data_numeric = pd.DataFrame({\n",
    "    'A': np.random.rand(10),\n",
    "    'B': np.random.rand(10),\n",
    "    'C': np.random.rand(10)\n",
    "})\n",
    "\n",
    "# The generated data is some randomly generated numbers using numpy library\n",
    "data_numeric"
   ]
  },
  {
   "cell_type": "code",
   "execution_count": 44,
   "metadata": {},
   "outputs": [
    {
     "data": {
      "text/html": [
       "<div>\n",
       "<style scoped>\n",
       "    .dataframe tbody tr th:only-of-type {\n",
       "        vertical-align: middle;\n",
       "    }\n",
       "\n",
       "    .dataframe tbody tr th {\n",
       "        vertical-align: top;\n",
       "    }\n",
       "\n",
       "    .dataframe thead th {\n",
       "        text-align: right;\n",
       "    }\n",
       "</style>\n",
       "<table border=\"1\" class=\"dataframe\">\n",
       "  <thead>\n",
       "    <tr style=\"text-align: right;\">\n",
       "      <th></th>\n",
       "      <th>A</th>\n",
       "      <th>B</th>\n",
       "      <th>C</th>\n",
       "    </tr>\n",
       "  </thead>\n",
       "  <tbody>\n",
       "    <tr>\n",
       "      <th>A</th>\n",
       "      <td>1.000000</td>\n",
       "      <td>0.704285</td>\n",
       "      <td>-0.372964</td>\n",
       "    </tr>\n",
       "    <tr>\n",
       "      <th>B</th>\n",
       "      <td>0.704285</td>\n",
       "      <td>1.000000</td>\n",
       "      <td>-0.450620</td>\n",
       "    </tr>\n",
       "    <tr>\n",
       "      <th>C</th>\n",
       "      <td>-0.372964</td>\n",
       "      <td>-0.450620</td>\n",
       "      <td>1.000000</td>\n",
       "    </tr>\n",
       "  </tbody>\n",
       "</table>\n",
       "</div>"
      ],
      "text/plain": [
       "          A         B         C\n",
       "A  1.000000  0.704285 -0.372964\n",
       "B  0.704285  1.000000 -0.450620\n",
       "C -0.372964 -0.450620  1.000000"
      ]
     },
     "execution_count": 44,
     "metadata": {},
     "output_type": "execute_result"
    }
   ],
   "source": [
    "data_numeric.corr() # corr() method in a dataframe will give you the correalatin matrix\n",
    "# we can plot the correlation matrix using heatmap but its up to you to go research and try.\n",
    "# Any way we will learn about it in Data exploration."
   ]
  },
  {
   "cell_type": "markdown",
   "metadata": {},
   "source": [
    "In the above correlation matrix the correlation between the variable and itself is 1 because a variable is cmpletely correlated with itself."
   ]
  },
  {
   "cell_type": "code",
   "execution_count": 48,
   "metadata": {},
   "outputs": [
    {
     "data": {
      "text/plain": [
       "Text(0, 0.5, 'B')"
      ]
     },
     "execution_count": 48,
     "metadata": {},
     "output_type": "execute_result"
    },
    {
     "data": {
      "image/png": "[encoded data removed]",
      "text/plain": [
       "<Figure size 400x400 with 1 Axes>"
      ]
     },
     "metadata": {},
     "output_type": "display_data"
    }
   ],
   "source": [
    "# SCATTER PLOT\n",
    "\n",
    "# plotting scatter plot between features 'A' and 'B' in 'data_numeric' data.\n",
    "ax = data_numeric.plot.scatter(x='A', y='B', figsize=(4, 4), marker='$\\u25EF$')\n",
    "\n",
    "ax.set_xlabel('A')\n",
    "ax.set_ylabel('B')"
   ]
  },
  {
   "cell_type": "markdown",
   "metadata": {},
   "source": [
    "**Multivariate Analysis** : \n",
    "Familiar estimators like mean and variance look at variables one at a time (univariate analysis). Correlation analysis is an important method that compares two variables (bivariate analysis). Taking more than two variables at a time is multivariate analysis. \n",
    "\n",
    "Univariate analysis not depends on whether the data is numerical or categorical. But Bivariate analysis and Multivariate analysis depends on nature of data: Numeric vs Categorical.\n",
    "\n",
    "In further Segments we will look into additional estimates and plots of Multivariate analysis."
   ]
  },
  {
   "cell_type": "markdown",
   "metadata": {},
   "source": [
    "This chapter has reviewed concepts ranging from simple metrics, such as estimates of location and variability, to rich visual displays that explore the relationships between multiple variables. The diverse set of tools and techniques combined with the expressiveness of the Python language, has created a significant ways to explore and analyze data."
   ]
  },
  {
   "cell_type": "markdown",
   "metadata": {},
   "source": [
    "- Its your work to explore more about the topics covered in this notebook and learn more. \n",
    "- As stated in the beginning that these topics were followed through the book \"Practical Statistics for Data Scientists\".\n",
    "- This book would be most helpful if you are a beginner and want to understand statistics for ML and DataScience.\n",
    "- Use MLWithMe for more such information and keep following the content.\n",
    "\n",
    "In the next segment we will look into different types of Distributions. "
   ]
  }
 ],
 "metadata": {
  "kernelspec": {
   "display_name": "base",
   "language": "python",
   "name": "python3"
  },
  "language_info": {
   "codemirror_mode": {
    "name": "ipython",
    "version": 3
   },
   "file_extension": ".py",
   "mimetype": "text/x-python",
   "name": "python",
   "nbconvert_exporter": "python",
   "pygments_lexer": "ipython3",
   "version": "3.10.13"
  }
 },
 "nbformat": 4,
 "nbformat_minor": 2
}
