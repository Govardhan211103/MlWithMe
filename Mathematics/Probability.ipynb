{
 "cells": [
  {
   "cell_type": "markdown",
   "metadata": {},
   "source": [
    "# Probability\n",
    "\n",
    "In this segment we will explore the basics of Probability.  \n",
    "Prbability is the study of Uncertainity. The fraction of times an event occurs or degree of belief about an event.   \n",
    "**oUncertainity** : Probability allows us to quantify the chances of different outcomes, even with incomplete information. This helps us build models that can adapt to new situations and avoid blind certainty.  \n",
    "\n",
    "**Decision Making** : Many machine learning tasks involve making decisions, like classifying an image or predicting future values. \n",
    "Probability helps us to choose the most likely outcome, reducing the risk of errors.  \n",
    "\n",
    "**Algorithm Design** : Many popular machine learning algorithms, like Naive Bayes and Support Vector Machines, are built on probabilistic principles. Understanding these principles unlocks the reasoning behind the algorithms and enables you to choose the right one for your problem.  \n"
   ]
  },
  {
   "cell_type": "markdown",
   "metadata": {},
   "source": [
    "### Things to learn in this section..\n",
    "1. Sample space, Event space\n",
    "2. Axioms of Probability \n",
    "3. Random variable\n",
    "4. Discrete vs Continous variables\n",
    "5. Bayes Theorem"
   ]
  },
  {
   "cell_type": "markdown",
   "metadata": {},
   "source": [
    "### Sample space & Event space\n",
    "Lets take a situation(Experiment) of flipping a fair coin at once. There is an equal chance of getting either a HEAD or a TAIL. Here flipping of a coin is the experiment occuring and HEAD or TAIL are the outcomes of the **Sample Space**(all the possible outcomes).\n",
    "\n",
    "**Sample space** : Sample space is the set of all possible ooutcomes of the given experiment. It contains every possible outcome, Let's take an experiment where we roll a die at once, the sample space contains set of all the possible outcomes that is {1, 2, 3, 4, 5, 6}.\n",
    "\n",
    "**Event space** : Event space is the set of all possible outcomes of the selected event or the combination of events, it's a subset of sample space. For example in an experiment of rolling a die we might be intersted in event \"getting an even number\" then the event space contains {2, 4, 6} which is the subset of Sample space."
   ]
  },
  {
   "cell_type": "markdown",
   "metadata": {},
   "source": [
    "### Axioms of Probability\n",
    "\n",
    "1. For any event **A**, the probability of event <h3>*P(A) ≥ 0*</h3>\n",
    "2. For a Sample space **S**, the probability of the space <h3>*P(S) = 1*</h3>\n",
    "3. If **A<sub>1</sub>, A<sub>2</sub>,....  ,A<sub>n</sub>** are n disjoint events of a sample space, then <h3>*P(A<sub>1</sub> ∪ A<sub>2</sub> ∪ ... A<sub>n</sub>) = P(A<sub>1</sub>) + P(A<sub>2</sub>) + ... + P(A<sub>n</sub>)*</h3>"
   ]
  },
  {
   "cell_type": "markdown",
   "metadata": {},
   "source": [
    "### Random Variable\n",
    "Random variables are functions that map Random experiment outcomes to measurable quantities. They can also be explained as the numerical representation of an outcome of a Random experiment. Simply, it assigns a numerical value to the each possible outcome in the sample space, which is set of all possible outcomes in an experiment.\n",
    "\n",
    "Random variables help us to analyse and quantify the probabilities of different events occuring. Assigning numbers to outcomes will let us to calculate probabilities or likelihood of a specific outcome. also helps in quantifying the realations between variables.\n",
    "\n",
    "There are two types of Random variables.\n",
    "1. Discrete Random Variables\n",
    "2. Continuous Random Variables"
   ]
  },
  {
   "cell_type": "markdown",
   "metadata": {},
   "source": [
    "### Discrete vs Continuous variables\n",
    "#### Discrete Random Variables :  \n",
    "\n",
    "The possible outcomes in a specific event are finite or countable These are Discrete random varibales. An experiment of rolling a dice at once will have have 6 possible outcomes and the sample space is {1, 2, 3, 4, 5, 6} here the outcomes are finite and specific.\n",
    "\n",
    "- In a target space or an Event space **E** which is discrete, we can specify the probability that a Random variable takes at a particular value **x ∈ E** is denoted as: <b>P(X = x)</b>.\n",
    "- The expression *P(X = x)* for a discrete random variable represents point probability also known as **Probability Mass Function**.\n",
    "\n",
    "\n",
    "#### Continuous Random variables : \n",
    "\n",
    "The possible outcomes in a specific event are real numbers which are infinite. Measuring someones height doesn't have a finite sample space and the values are infinitely many with some specific range.\n",
    "\n",
    "- In a target space or an Event space **E** which is continuous Example, the real line **R**, we can specify the probability that a Random variable takes at a particular interval *a ⩽ x ⩽ b* value **a < b** is denoted as: <b>P(a ⩽ X ⩽ b)</b>.\n",
    "- The expression *P(a ⩽ X ⩽ b)* for a continuous random variable represents point probability known as **Probability Density Function**.\n",
    "- By convention, we specify the probability that a random variable X is less than a particular value **x**, denoted by **P(X ⩽ x)**. The expression **P(X ⩽ x)** for a continuous random variable **X** is Interval probability also known as the cumulative distribution function which is not present in discrete variables."
   ]
  },
  {
   "cell_type": "markdown",
   "metadata": {},
   "source": [
    "**Probability Distribution** : \n",
    "- A probability distribution is a statistical function that describes all the possible values and likelihoods that a random variable can take within a given range.\n",
    "- The Probability Mass and Density functions defined above for Discrete and Continous rando variables respectively are Probability distributions.  \n",
    "\n",
    "**Joint Probability Distribution**: \n",
    "- For two or more random variables defined on the same probability space, the joint probability distribution provides probabilities for all possible pairs of outputs.\n",
    "- Provides information about how these random variables interact.\n",
    "\n",
    "**Marginal Probability Distribution** : \n",
    "- The marginal distribution provides the probabilities of different outcomes for one specific variable, ignoring the values of other related variables.\n",
    "- <h3><i>P(X = x) = ∑<sub>y </sub>P(x = X, y = Y)</i></h3>\n",
    "\n",
    "**Conditional Probability Distribution** :\n",
    "- A conditional probability distribution describes the probability of an outcome given the occurrence of a particular event.\n",
    "- It provides probabilities for a subset of the Sample space, conditioned on the occurrence of a specific event in the same Sample space.\n",
    "- <h3><i>P(X = x | Y = y) = ∑<sub>y </sub><span>P(x = X, y = Y) / P(Y = y)</i></h3>"
   ]
  },
  {
   "cell_type": "markdown",
   "metadata": {},
   "source": [
    "### Bayes Theorem\n",
    "- Bayes Theorem is a mathematical formula used to determine the conditional probability of events. \n",
    "- Essentially,it describes the probability of an event based on prior knowledge of the conditions that might be relevant to the event.\n",
    "- Below shown the equation of Bayes theorem.\n",
    "- It is derived from the definition of **conditional probability**.\n",
    "<center><img src=\"images/Bayes-Theorem.png\" width=\"400\" height=\"170\" align=\"center\"/></center>\n",
    "\n",
    "- For two events **A, B** in the given Sample space.  \n",
    "- P(A | B) : The probability of event A occurring given that B has occurred.\n",
    "- P(B | A) : The probability of B occurring given that A has occurred.\n",
    "- P(A) : The prior probability of event A.\n",
    "- P(B) : The overall probability of event B.\n",
    "\n"
   ]
  },
  {
   "cell_type": "markdown",
   "metadata": {},
   "source": [
    "### Conclusion\n",
    "- ML models often rely on statistical principles. Probability theory provides tools for estimating parameters, making predictions, and assessing uncertainty.\n",
    "- Bayesian methods use probability to update beliefs based on new evidence. They’re valuable for model training and parameter estimation.\n",
    "- Some classifier models use Bayes Theorem in model builiding and represent dependencies among features or variables.\n",
    "- Different types of Probability Distributions which will be explained in further segments are used to understand the distribution of data which helps in designing effective ML models."
   ]
  },
  {
   "cell_type": "markdown",
   "metadata": {},
   "source": [
    "Visit this article, good source for Probability for Machine leanring, [ARTICLE](https://medium.com/towards-data-science/probability-for-machine-learning-2cfe4aa13101)"
   ]
  }
 ],
 "metadata": {
  "kernelspec": {
   "display_name": "base",
   "language": "python",
   "name": "python3"
  },
  "language_info": {
   "codemirror_mode": {
    "name": "ipython",
    "version": 3
   },
   "file_extension": ".py",
   "mimetype": "text/x-python",
   "name": "python",
   "nbconvert_exporter": "python",
   "pygments_lexer": "ipython3",
   "version": "3.10.13"
  }
 },
 "nbformat": 4,
 "nbformat_minor": 2
}
